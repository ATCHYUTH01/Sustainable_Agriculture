from pathlib import Path
import sys
import pandas as pd
import numpy as np
from sklearn.ensemble import RandomForestRegressor
from sklearn.model_selection import train_test_split
from sklearn.metrics import mean_absolute_error
import joblib

# Resolve project paths and imports

def find_project_root(start: Path = Path.cwd(), markers=("pyproject.toml", "requirements.txt")) -> Path:
    current = start.resolve()
    for parent in [current] + list(current.parents):
        if all((parent / m).exists() for m in markers):
            return parent
    if current.name == "notebooks":
        return current.parent
    return current

PROJECT_ROOT = find_project_root()
if str(PROJECT_ROOT) not in sys.path:
    sys.path.insert(0, str(PROJECT_ROOT))

from src.recommender import BaselineFertilizerRecommender  # noqa: E402
from src.generate_synthetic_data import generate_synthetic_soil_data, save_data_to_csv  # noqa: E402

DATA_PATH = PROJECT_ROOT / "data" / "raw" / "soil_samples_synthetic_week1.csv"
MODELS_DIR = PROJECT_ROOT / "models"
MODELS_DIR.mkdir(parents=True, exist_ok=True)

# Load or generate data
if not DATA_PATH.exists():
    df_generated = generate_synthetic_soil_data(n_samples=500, random_seed=42)
    save_data_to_csv(df_generated, str(DATA_PATH))

soil_df = pd.read_csv(DATA_PATH)

# Compute target columns using recommend_for_row
recommender = BaselineFertilizerRecommender()

def compute_targets(row: pd.Series) -> pd.Series:
    recs = recommender.recommend_for_row(row.to_dict())
    return pd.Series({
        'N_need': recs.get('N_need_kg_ha', 0.0),
        'P_need': recs.get('P_need_kg_ha', 0.0),
        'K_need': recs.get('K_need_kg_ha', 0.0),
    })

soil_df = pd.concat([soil_df, soil_df.apply(compute_targets, axis=1)], axis=1)

# Prepare features and target
feature_cols = ['pH', 'N', 'P', 'K', 'organic_carbon', 'moisture', 'crop']
X = soil_df[feature_cols].copy()
X = pd.get_dummies(X, columns=['crop'], drop_first=True)
y = soil_df['N_need'].astype(float)

# Train/test split
X_train, X_test, y_train, y_test = train_test_split(
    X, y, test_size=0.2, random_state=42
)

# Train model
rf = RandomForestRegressor(n_estimators=200, random_state=42, n_jobs=-1)
rf.fit(X_train, y_train)

# Evaluate
y_pred = rf.predict(X_test)
mae = mean_absolute_error(y_test, y_pred)
print(f"MAE: {mae:.4f}")

# Save model
model_path = MODELS_DIR / 'rf_baseline.pkl'
joblib.dump(rf, model_path)
print(f"Saved model to: {model_path}")